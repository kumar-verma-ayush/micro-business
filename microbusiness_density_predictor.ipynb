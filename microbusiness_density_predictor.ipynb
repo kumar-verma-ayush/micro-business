{
 "cells": [
  {
   "cell_type": "code",
   "execution_count": 1,
   "id": "d4cb0049-3b2f-420e-97bc-fa06ff3171c3",
   "metadata": {},
   "outputs": [],
   "source": [
    "import pandas as pd\n",
    "import numpy as np \n",
    "import matplotlib.pyplot as plt \n",
    "import seaborn as sns \n",
    "import plotly.express as px \n",
    "from sklearn.model_selection import train_test_split\n",
    "import os \n"
   ]
  },
  {
   "cell_type": "code",
   "execution_count": 2,
   "id": "c72aef8e-b552-4638-85e5-462483c52443",
   "metadata": {},
   "outputs": [
    {
     "data": {
      "text/plain": [
       "'D:\\\\cointab project\\\\eda+data_cleaning'"
      ]
     },
     "execution_count": 2,
     "metadata": {},
     "output_type": "execute_result"
    }
   ],
   "source": [
    "pwd"
   ]
  },
  {
   "cell_type": "code",
   "execution_count": 3,
   "id": "3f00380e-7cbd-4083-ab23-20a7b7976a6b",
   "metadata": {},
   "outputs": [
    {
     "data": {
      "text/plain": [
       "['.ipynb_checkpoints',\n",
       " 'census_starter.csv',\n",
       " 'godaddy-microbusiness-density-forecasting-privateleaderboard-2024-05-04T13_18_05.csv',\n",
       " 'godaddy.ipynb',\n",
       " 'microbusiness_density_predictor.ipynb',\n",
       " 'revealed_test.csv',\n",
       " 'sample_submission.csv',\n",
       " 'test.csv',\n",
       " 'train.csv',\n",
       " 'Untitled.ipynb']"
      ]
     },
     "execution_count": 3,
     "metadata": {},
     "output_type": "execute_result"
    }
   ],
   "source": [
    "os.listdir()"
   ]
  },
  {
   "cell_type": "code",
   "execution_count": 4,
   "id": "af172d3a-30f5-4cb4-b5e4-7ebd7023f178",
   "metadata": {},
   "outputs": [],
   "source": [
    "dfs=[]\n",
    "for i in os.listdir():\n",
    "    if i.endswith(\".csv\"):\n",
    "        df=pd.read_csv(i)\n",
    "        dfs.append(df)"
   ]
  },
  {
   "cell_type": "code",
   "execution_count": 5,
   "id": "9b4d92df-b0e9-4d23-9aec-d7f278ee2d2d",
   "metadata": {},
   "outputs": [],
   "source": [
    "df1=dfs[0]\n",
    "df2=dfs[2]\n",
    "df3=dfs[3]\n",
    "df4=dfs[4]\n",
    "df5=dfs[5]"
   ]
  },
  {
   "cell_type": "code",
   "execution_count": 6,
   "id": "fb50a780-d004-44fa-bc53-c9a2ee61389e",
   "metadata": {},
   "outputs": [
    {
     "data": {
      "text/html": [
       "<div>\n",
       "<style scoped>\n",
       "    .dataframe tbody tr th:only-of-type {\n",
       "        vertical-align: middle;\n",
       "    }\n",
       "\n",
       "    .dataframe tbody tr th {\n",
       "        vertical-align: top;\n",
       "    }\n",
       "\n",
       "    .dataframe thead th {\n",
       "        text-align: right;\n",
       "    }\n",
       "</style>\n",
       "<table border=\"1\" class=\"dataframe\">\n",
       "  <thead>\n",
       "    <tr style=\"text-align: right;\">\n",
       "      <th></th>\n",
       "      <th>pct_bb_2017</th>\n",
       "      <th>pct_bb_2018</th>\n",
       "      <th>pct_bb_2019</th>\n",
       "      <th>pct_bb_2020</th>\n",
       "      <th>pct_bb_2021</th>\n",
       "      <th>cfips</th>\n",
       "      <th>pct_college_2017</th>\n",
       "      <th>pct_college_2018</th>\n",
       "      <th>pct_college_2019</th>\n",
       "      <th>pct_college_2020</th>\n",
       "      <th>...</th>\n",
       "      <th>pct_it_workers_2017</th>\n",
       "      <th>pct_it_workers_2018</th>\n",
       "      <th>pct_it_workers_2019</th>\n",
       "      <th>pct_it_workers_2020</th>\n",
       "      <th>pct_it_workers_2021</th>\n",
       "      <th>median_hh_inc_2017</th>\n",
       "      <th>median_hh_inc_2018</th>\n",
       "      <th>median_hh_inc_2019</th>\n",
       "      <th>median_hh_inc_2020</th>\n",
       "      <th>median_hh_inc_2021</th>\n",
       "    </tr>\n",
       "  </thead>\n",
       "  <tbody>\n",
       "    <tr>\n",
       "      <th>0</th>\n",
       "      <td>76.6</td>\n",
       "      <td>78.9</td>\n",
       "      <td>80.6</td>\n",
       "      <td>82.7</td>\n",
       "      <td>85.5</td>\n",
       "      <td>1001</td>\n",
       "      <td>14.5</td>\n",
       "      <td>15.9</td>\n",
       "      <td>16.1</td>\n",
       "      <td>16.7</td>\n",
       "      <td>...</td>\n",
       "      <td>1.3</td>\n",
       "      <td>1.1</td>\n",
       "      <td>0.7</td>\n",
       "      <td>0.6</td>\n",
       "      <td>1.1</td>\n",
       "      <td>55317</td>\n",
       "      <td>58786.0</td>\n",
       "      <td>58731</td>\n",
       "      <td>57982.0</td>\n",
       "      <td>62660.0</td>\n",
       "    </tr>\n",
       "  </tbody>\n",
       "</table>\n",
       "<p>1 rows × 26 columns</p>\n",
       "</div>"
      ],
      "text/plain": [
       "   pct_bb_2017  pct_bb_2018  pct_bb_2019  pct_bb_2020  pct_bb_2021  cfips  \\\n",
       "0         76.6         78.9         80.6         82.7         85.5   1001   \n",
       "\n",
       "   pct_college_2017  pct_college_2018  pct_college_2019  pct_college_2020  \\\n",
       "0              14.5              15.9              16.1              16.7   \n",
       "\n",
       "   ...  pct_it_workers_2017  pct_it_workers_2018  pct_it_workers_2019  \\\n",
       "0  ...                  1.3                  1.1                  0.7   \n",
       "\n",
       "   pct_it_workers_2020  pct_it_workers_2021  median_hh_inc_2017  \\\n",
       "0                  0.6                  1.1               55317   \n",
       "\n",
       "   median_hh_inc_2018  median_hh_inc_2019  median_hh_inc_2020  \\\n",
       "0             58786.0               58731             57982.0   \n",
       "\n",
       "   median_hh_inc_2021  \n",
       "0             62660.0  \n",
       "\n",
       "[1 rows x 26 columns]"
      ]
     },
     "execution_count": 6,
     "metadata": {},
     "output_type": "execute_result"
    }
   ],
   "source": [
    "df1.head(1)"
   ]
  },
  {
   "cell_type": "code",
   "execution_count": 7,
   "id": "4de051aa-568f-4fcf-8556-387682540601",
   "metadata": {},
   "outputs": [
    {
     "data": {
      "text/html": [
       "<div>\n",
       "<style scoped>\n",
       "    .dataframe tbody tr th:only-of-type {\n",
       "        vertical-align: middle;\n",
       "    }\n",
       "\n",
       "    .dataframe tbody tr th {\n",
       "        vertical-align: top;\n",
       "    }\n",
       "\n",
       "    .dataframe thead th {\n",
       "        text-align: right;\n",
       "    }\n",
       "</style>\n",
       "<table border=\"1\" class=\"dataframe\">\n",
       "  <thead>\n",
       "    <tr style=\"text-align: right;\">\n",
       "      <th></th>\n",
       "      <th>row_id</th>\n",
       "      <th>cfips</th>\n",
       "      <th>county</th>\n",
       "      <th>state</th>\n",
       "      <th>first_day_of_month</th>\n",
       "      <th>microbusiness_density</th>\n",
       "      <th>active</th>\n",
       "    </tr>\n",
       "  </thead>\n",
       "  <tbody>\n",
       "    <tr>\n",
       "      <th>0</th>\n",
       "      <td>1001_2022-11-01</td>\n",
       "      <td>1001</td>\n",
       "      <td>Autauga County</td>\n",
       "      <td>Alabama</td>\n",
       "      <td>2022-11-01</td>\n",
       "      <td>3.442677</td>\n",
       "      <td>1463</td>\n",
       "    </tr>\n",
       "  </tbody>\n",
       "</table>\n",
       "</div>"
      ],
      "text/plain": [
       "            row_id  cfips          county    state first_day_of_month  \\\n",
       "0  1001_2022-11-01   1001  Autauga County  Alabama         2022-11-01   \n",
       "\n",
       "   microbusiness_density  active  \n",
       "0               3.442677    1463  "
      ]
     },
     "execution_count": 7,
     "metadata": {},
     "output_type": "execute_result"
    }
   ],
   "source": [
    "df2.head(1)"
   ]
  },
  {
   "cell_type": "code",
   "execution_count": 8,
   "id": "1d3269ee-42c7-4529-ac4f-8ef8e45144f3",
   "metadata": {},
   "outputs": [
    {
     "data": {
      "text/html": [
       "<div>\n",
       "<style scoped>\n",
       "    .dataframe tbody tr th:only-of-type {\n",
       "        vertical-align: middle;\n",
       "    }\n",
       "\n",
       "    .dataframe tbody tr th {\n",
       "        vertical-align: top;\n",
       "    }\n",
       "\n",
       "    .dataframe thead th {\n",
       "        text-align: right;\n",
       "    }\n",
       "</style>\n",
       "<table border=\"1\" class=\"dataframe\">\n",
       "  <thead>\n",
       "    <tr style=\"text-align: right;\">\n",
       "      <th></th>\n",
       "      <th>row_id</th>\n",
       "      <th>microbusiness_density</th>\n",
       "    </tr>\n",
       "  </thead>\n",
       "  <tbody>\n",
       "    <tr>\n",
       "      <th>0</th>\n",
       "      <td>1001_2022-11-01</td>\n",
       "      <td>3.817671</td>\n",
       "    </tr>\n",
       "  </tbody>\n",
       "</table>\n",
       "</div>"
      ],
      "text/plain": [
       "            row_id  microbusiness_density\n",
       "0  1001_2022-11-01               3.817671"
      ]
     },
     "execution_count": 8,
     "metadata": {},
     "output_type": "execute_result"
    }
   ],
   "source": [
    "df3.head(1)"
   ]
  },
  {
   "cell_type": "code",
   "execution_count": 9,
   "id": "ce295f82-0ea1-440f-8765-e21f0b69d9ee",
   "metadata": {},
   "outputs": [
    {
     "data": {
      "text/html": [
       "<div>\n",
       "<style scoped>\n",
       "    .dataframe tbody tr th:only-of-type {\n",
       "        vertical-align: middle;\n",
       "    }\n",
       "\n",
       "    .dataframe tbody tr th {\n",
       "        vertical-align: top;\n",
       "    }\n",
       "\n",
       "    .dataframe thead th {\n",
       "        text-align: right;\n",
       "    }\n",
       "</style>\n",
       "<table border=\"1\" class=\"dataframe\">\n",
       "  <thead>\n",
       "    <tr style=\"text-align: right;\">\n",
       "      <th></th>\n",
       "      <th>row_id</th>\n",
       "      <th>cfips</th>\n",
       "      <th>first_day_of_month</th>\n",
       "    </tr>\n",
       "  </thead>\n",
       "  <tbody>\n",
       "    <tr>\n",
       "      <th>0</th>\n",
       "      <td>1001_2022-11-01</td>\n",
       "      <td>1001</td>\n",
       "      <td>2022-11-01</td>\n",
       "    </tr>\n",
       "  </tbody>\n",
       "</table>\n",
       "</div>"
      ],
      "text/plain": [
       "            row_id  cfips first_day_of_month\n",
       "0  1001_2022-11-01   1001         2022-11-01"
      ]
     },
     "execution_count": 9,
     "metadata": {},
     "output_type": "execute_result"
    }
   ],
   "source": [
    "df4.head(1)"
   ]
  },
  {
   "cell_type": "code",
   "execution_count": 10,
   "id": "5b0c1016-0477-4bd5-ba6e-860f2fa076ea",
   "metadata": {},
   "outputs": [
    {
     "data": {
      "text/html": [
       "<div>\n",
       "<style scoped>\n",
       "    .dataframe tbody tr th:only-of-type {\n",
       "        vertical-align: middle;\n",
       "    }\n",
       "\n",
       "    .dataframe tbody tr th {\n",
       "        vertical-align: top;\n",
       "    }\n",
       "\n",
       "    .dataframe thead th {\n",
       "        text-align: right;\n",
       "    }\n",
       "</style>\n",
       "<table border=\"1\" class=\"dataframe\">\n",
       "  <thead>\n",
       "    <tr style=\"text-align: right;\">\n",
       "      <th></th>\n",
       "      <th>row_id</th>\n",
       "      <th>cfips</th>\n",
       "      <th>county</th>\n",
       "      <th>state</th>\n",
       "      <th>first_day_of_month</th>\n",
       "      <th>microbusiness_density</th>\n",
       "      <th>active</th>\n",
       "    </tr>\n",
       "  </thead>\n",
       "  <tbody>\n",
       "    <tr>\n",
       "      <th>0</th>\n",
       "      <td>1001_2019-08-01</td>\n",
       "      <td>1001</td>\n",
       "      <td>Autauga County</td>\n",
       "      <td>Alabama</td>\n",
       "      <td>2019-08-01</td>\n",
       "      <td>3.007682</td>\n",
       "      <td>1249</td>\n",
       "    </tr>\n",
       "  </tbody>\n",
       "</table>\n",
       "</div>"
      ],
      "text/plain": [
       "            row_id  cfips          county    state first_day_of_month  \\\n",
       "0  1001_2019-08-01   1001  Autauga County  Alabama         2019-08-01   \n",
       "\n",
       "   microbusiness_density  active  \n",
       "0               3.007682    1249  "
      ]
     },
     "execution_count": 10,
     "metadata": {},
     "output_type": "execute_result"
    }
   ],
   "source": [
    "df5.head(1)"
   ]
  },
  {
   "cell_type": "code",
   "execution_count": 11,
   "id": "2d3cfcd4-f443-4b06-8ee7-d3054cfc5464",
   "metadata": {},
   "outputs": [
    {
     "name": "stdout",
     "output_type": "stream",
     "text": [
      "(3142, 26)\n",
      "(3386, 7)\n",
      "(6270, 7)\n",
      "(25080, 2)\n",
      "(25080, 3)\n",
      "(122265, 7)\n"
     ]
    }
   ],
   "source": [
    "for i in dfs:\n",
    "    print(i.shape)"
   ]
  },
  {
   "cell_type": "code",
   "execution_count": 12,
   "id": "f9c6f5d9-c2a6-4d44-b697-71a6be623952",
   "metadata": {},
   "outputs": [],
   "source": [
    "df25=pd.concat([df5,df2],axis=0)"
   ]
  },
  {
   "cell_type": "code",
   "execution_count": 13,
   "id": "a13d681b-2088-4b58-bb70-adee96888fec",
   "metadata": {},
   "outputs": [
    {
     "data": {
      "text/html": [
       "<div>\n",
       "<style scoped>\n",
       "    .dataframe tbody tr th:only-of-type {\n",
       "        vertical-align: middle;\n",
       "    }\n",
       "\n",
       "    .dataframe tbody tr th {\n",
       "        vertical-align: top;\n",
       "    }\n",
       "\n",
       "    .dataframe thead th {\n",
       "        text-align: right;\n",
       "    }\n",
       "</style>\n",
       "<table border=\"1\" class=\"dataframe\">\n",
       "  <thead>\n",
       "    <tr style=\"text-align: right;\">\n",
       "      <th></th>\n",
       "      <th>cfips</th>\n",
       "      <th>Details</th>\n",
       "      <th>Score</th>\n",
       "    </tr>\n",
       "  </thead>\n",
       "  <tbody>\n",
       "    <tr>\n",
       "      <th>0</th>\n",
       "      <td>1001</td>\n",
       "      <td>pct_bb_2017</td>\n",
       "      <td>76.6</td>\n",
       "    </tr>\n",
       "    <tr>\n",
       "      <th>1</th>\n",
       "      <td>1003</td>\n",
       "      <td>pct_bb_2017</td>\n",
       "      <td>74.5</td>\n",
       "    </tr>\n",
       "    <tr>\n",
       "      <th>2</th>\n",
       "      <td>1005</td>\n",
       "      <td>pct_bb_2017</td>\n",
       "      <td>57.2</td>\n",
       "    </tr>\n",
       "    <tr>\n",
       "      <th>3</th>\n",
       "      <td>1007</td>\n",
       "      <td>pct_bb_2017</td>\n",
       "      <td>62.0</td>\n",
       "    </tr>\n",
       "    <tr>\n",
       "      <th>4</th>\n",
       "      <td>1009</td>\n",
       "      <td>pct_bb_2017</td>\n",
       "      <td>65.8</td>\n",
       "    </tr>\n",
       "    <tr>\n",
       "      <th>...</th>\n",
       "      <td>...</td>\n",
       "      <td>...</td>\n",
       "      <td>...</td>\n",
       "    </tr>\n",
       "    <tr>\n",
       "      <th>78545</th>\n",
       "      <td>56037</td>\n",
       "      <td>median_hh_inc_2021</td>\n",
       "      <td>76668.0</td>\n",
       "    </tr>\n",
       "    <tr>\n",
       "      <th>78546</th>\n",
       "      <td>56039</td>\n",
       "      <td>median_hh_inc_2021</td>\n",
       "      <td>94498.0</td>\n",
       "    </tr>\n",
       "    <tr>\n",
       "      <th>78547</th>\n",
       "      <td>56041</td>\n",
       "      <td>median_hh_inc_2021</td>\n",
       "      <td>75106.0</td>\n",
       "    </tr>\n",
       "    <tr>\n",
       "      <th>78548</th>\n",
       "      <td>56043</td>\n",
       "      <td>median_hh_inc_2021</td>\n",
       "      <td>62271.0</td>\n",
       "    </tr>\n",
       "    <tr>\n",
       "      <th>78549</th>\n",
       "      <td>56045</td>\n",
       "      <td>median_hh_inc_2021</td>\n",
       "      <td>65566.0</td>\n",
       "    </tr>\n",
       "  </tbody>\n",
       "</table>\n",
       "<p>78550 rows × 3 columns</p>\n",
       "</div>"
      ],
      "text/plain": [
       "       cfips             Details    Score\n",
       "0       1001         pct_bb_2017     76.6\n",
       "1       1003         pct_bb_2017     74.5\n",
       "2       1005         pct_bb_2017     57.2\n",
       "3       1007         pct_bb_2017     62.0\n",
       "4       1009         pct_bb_2017     65.8\n",
       "...      ...                 ...      ...\n",
       "78545  56037  median_hh_inc_2021  76668.0\n",
       "78546  56039  median_hh_inc_2021  94498.0\n",
       "78547  56041  median_hh_inc_2021  75106.0\n",
       "78548  56043  median_hh_inc_2021  62271.0\n",
       "78549  56045  median_hh_inc_2021  65566.0\n",
       "\n",
       "[78550 rows x 3 columns]"
      ]
     },
     "execution_count": 13,
     "metadata": {},
     "output_type": "execute_result"
    }
   ],
   "source": [
    "df1=pd.melt(df1,id_vars=['cfips'],value_vars=['pct_bb_2017', 'pct_bb_2018', 'pct_bb_2019', 'pct_bb_2020',\n",
    "       'pct_bb_2021', 'cfips', 'pct_college_2017', 'pct_college_2018',\n",
    "       'pct_college_2019', 'pct_college_2020', 'pct_college_2021',\n",
    "       'pct_foreign_born_2017', 'pct_foreign_born_2018',\n",
    "       'pct_foreign_born_2019', 'pct_foreign_born_2020',\n",
    "       'pct_foreign_born_2021', 'pct_it_workers_2017', 'pct_it_workers_2018',\n",
    "       'pct_it_workers_2019', 'pct_it_workers_2020', 'pct_it_workers_2021',\n",
    "       'median_hh_inc_2017', 'median_hh_inc_2018', 'median_hh_inc_2019',\n",
    "       'median_hh_inc_2020', 'median_hh_inc_2021']).rename(columns={\"value\":\"Score\",\"variable\":\"Details\"},)\n",
    "df1"
   ]
  },
  {
   "cell_type": "code",
   "execution_count": 14,
   "id": "9e7fecf8-2323-4bd1-8f4c-40b3fb187e02",
   "metadata": {},
   "outputs": [],
   "source": [
    "df1[\"Year\"]= [i[-4:] for i in df1[\"Details\"]]"
   ]
  },
  {
   "cell_type": "code",
   "execution_count": 15,
   "id": "6b5b4726-4a93-488b-91bd-d50c48f4f5c4",
   "metadata": {},
   "outputs": [],
   "source": [
    "df1[\"Categories\"]= [i[:-5] for i in df1[\"Details\"]]"
   ]
  },
  {
   "cell_type": "code",
   "execution_count": 16,
   "id": "cb42d30c-8ce6-4fb0-8ae8-8f0c94debc61",
   "metadata": {},
   "outputs": [
    {
     "data": {
      "text/plain": [
       "array(['pct_bb', 'pct_college', 'pct_foreign_born', 'pct_it_workers',\n",
       "       'median_hh_inc'], dtype=object)"
      ]
     },
     "execution_count": 16,
     "metadata": {},
     "output_type": "execute_result"
    }
   ],
   "source": [
    "df1[\"Categories\"].unique()"
   ]
  },
  {
   "cell_type": "code",
   "execution_count": 17,
   "id": "deffaa36-7238-4e7e-a3e9-7e89d433db60",
   "metadata": {},
   "outputs": [],
   "source": [
    "for i in  dfs:\n",
    "    i.drop_duplicates(inplace=True)\n"
   ]
  },
  {
   "cell_type": "code",
   "execution_count": 18,
   "id": "e0c7cafe-a154-44c8-9098-3c86ed4d0897",
   "metadata": {},
   "outputs": [],
   "source": [
    "complete_df=pd.merge(df25,df1,on='cfips',how='left')"
   ]
  },
  {
   "cell_type": "markdown",
   "id": "09589d7b-21b8-4ee3-afe6-22512992ec17",
   "metadata": {},
   "source": [
    "# EDA"
   ]
  },
  {
   "cell_type": "markdown",
   "id": "c558250d-5c20-44b1-93ff-4f56566c5b89",
   "metadata": {},
   "source": [
    "# view "
   ]
  },
  {
   "cell_type": "code",
   "execution_count": 19,
   "id": "906156dc-479a-4ba0-a344-a8f03e0012ab",
   "metadata": {},
   "outputs": [
    {
     "data": {
      "text/plain": [
       "Index(['row_id', 'cfips', 'county', 'state', 'first_day_of_month',\n",
       "       'microbusiness_density', 'active', 'Details', 'Score', 'Year',\n",
       "       'Categories'],\n",
       "      dtype='object')"
      ]
     },
     "execution_count": 19,
     "metadata": {},
     "output_type": "execute_result"
    }
   ],
   "source": [
    "complete_df.columns"
   ]
  },
  {
   "cell_type": "code",
   "execution_count": 20,
   "id": "ce11d2a8-77ee-427b-8815-9cbca1bbf32e",
   "metadata": {},
   "outputs": [
    {
     "data": {
      "text/plain": [
       "(3213375, 11)"
      ]
     },
     "execution_count": 20,
     "metadata": {},
     "output_type": "execute_result"
    }
   ],
   "source": [
    "complete_df.shape"
   ]
  },
  {
   "cell_type": "code",
   "execution_count": 21,
   "id": "cccc5cbd-3c34-40ae-b601-06849fd99892",
   "metadata": {},
   "outputs": [
    {
     "data": {
      "text/plain": [
       "35347125"
      ]
     },
     "execution_count": 21,
     "metadata": {},
     "output_type": "execute_result"
    }
   ],
   "source": [
    "complete_df.size"
   ]
  },
  {
   "cell_type": "code",
   "execution_count": 22,
   "id": "075c1b1c-b5f9-44ac-8a31-56c96e46cbbd",
   "metadata": {},
   "outputs": [],
   "source": [
    "complete_df['cfips']=complete_df['cfips'].astype(str)"
   ]
  },
  {
   "cell_type": "code",
   "execution_count": 23,
   "id": "266e4710-7cd4-404d-a871-c7f035ca9a28",
   "metadata": {},
   "outputs": [
    {
     "name": "stdout",
     "output_type": "stream",
     "text": [
      "<class 'pandas.core.frame.DataFrame'>\n",
      "RangeIndex: 3213375 entries, 0 to 3213374\n",
      "Data columns (total 11 columns):\n",
      " #   Column                 Dtype  \n",
      "---  ------                 -----  \n",
      " 0   row_id                 object \n",
      " 1   cfips                  object \n",
      " 2   county                 object \n",
      " 3   state                  object \n",
      " 4   first_day_of_month     object \n",
      " 5   microbusiness_density  float64\n",
      " 6   active                 int64  \n",
      " 7   Details                object \n",
      " 8   Score                  float64\n",
      " 9   Year                   object \n",
      " 10  Categories             object \n",
      "dtypes: float64(2), int64(1), object(8)\n",
      "memory usage: 269.7+ MB\n"
     ]
    }
   ],
   "source": [
    "complete_df.info()"
   ]
  },
  {
   "cell_type": "code",
   "execution_count": 24,
   "id": "ea17d48f-c53e-492c-a1e9-9c13dbb54859",
   "metadata": {},
   "outputs": [
    {
     "data": {
      "text/html": [
       "<div>\n",
       "<style scoped>\n",
       "    .dataframe tbody tr th:only-of-type {\n",
       "        vertical-align: middle;\n",
       "    }\n",
       "\n",
       "    .dataframe tbody tr th {\n",
       "        vertical-align: top;\n",
       "    }\n",
       "\n",
       "    .dataframe thead th {\n",
       "        text-align: right;\n",
       "    }\n",
       "</style>\n",
       "<table border=\"1\" class=\"dataframe\">\n",
       "  <thead>\n",
       "    <tr style=\"text-align: right;\">\n",
       "      <th></th>\n",
       "      <th>count</th>\n",
       "      <th>mean</th>\n",
       "      <th>std</th>\n",
       "      <th>min</th>\n",
       "      <th>25%</th>\n",
       "      <th>50%</th>\n",
       "      <th>75%</th>\n",
       "      <th>max</th>\n",
       "    </tr>\n",
       "  </thead>\n",
       "  <tbody>\n",
       "    <tr>\n",
       "      <th>microbusiness_density</th>\n",
       "      <td>3213375.0</td>\n",
       "      <td>3.827817</td>\n",
       "      <td>5.059287</td>\n",
       "      <td>0.0</td>\n",
       "      <td>1.642628</td>\n",
       "      <td>2.59142</td>\n",
       "      <td>4.525961</td>\n",
       "      <td>2.843400e+02</td>\n",
       "    </tr>\n",
       "    <tr>\n",
       "      <th>active</th>\n",
       "      <td>3213375.0</td>\n",
       "      <td>6461.169277</td>\n",
       "      <td>33117.463910</td>\n",
       "      <td>0.0</td>\n",
       "      <td>145.000000</td>\n",
       "      <td>490.00000</td>\n",
       "      <td>2127.000000</td>\n",
       "      <td>1.167744e+06</td>\n",
       "    </tr>\n",
       "    <tr>\n",
       "      <th>Score</th>\n",
       "      <td>3213211.0</td>\n",
       "      <td>10744.279637</td>\n",
       "      <td>22408.306000</td>\n",
       "      <td>0.0</td>\n",
       "      <td>2.100000</td>\n",
       "      <td>14.20000</td>\n",
       "      <td>82.300000</td>\n",
       "      <td>1.568210e+05</td>\n",
       "    </tr>\n",
       "  </tbody>\n",
       "</table>\n",
       "</div>"
      ],
      "text/plain": [
       "                           count          mean           std  min         25%  \\\n",
       "microbusiness_density  3213375.0      3.827817      5.059287  0.0    1.642628   \n",
       "active                 3213375.0   6461.169277  33117.463910  0.0  145.000000   \n",
       "Score                  3213211.0  10744.279637  22408.306000  0.0    2.100000   \n",
       "\n",
       "                             50%          75%           max  \n",
       "microbusiness_density    2.59142     4.525961  2.843400e+02  \n",
       "active                 490.00000  2127.000000  1.167744e+06  \n",
       "Score                   14.20000    82.300000  1.568210e+05  "
      ]
     },
     "execution_count": 24,
     "metadata": {},
     "output_type": "execute_result"
    }
   ],
   "source": [
    "complete_df.describe().T # numeric_data"
   ]
  },
  {
   "cell_type": "code",
   "execution_count": 25,
   "id": "ffd18362-e944-4591-9663-d76fe24cc784",
   "metadata": {},
   "outputs": [
    {
     "data": {
      "text/html": [
       "<div>\n",
       "<style scoped>\n",
       "    .dataframe tbody tr th:only-of-type {\n",
       "        vertical-align: middle;\n",
       "    }\n",
       "\n",
       "    .dataframe tbody tr th {\n",
       "        vertical-align: top;\n",
       "    }\n",
       "\n",
       "    .dataframe thead th {\n",
       "        text-align: right;\n",
       "    }\n",
       "</style>\n",
       "<table border=\"1\" class=\"dataframe\">\n",
       "  <thead>\n",
       "    <tr style=\"text-align: right;\">\n",
       "      <th></th>\n",
       "      <th>count</th>\n",
       "      <th>unique</th>\n",
       "      <th>top</th>\n",
       "      <th>freq</th>\n",
       "    </tr>\n",
       "  </thead>\n",
       "  <tbody>\n",
       "    <tr>\n",
       "      <th>row_id</th>\n",
       "      <td>3213375</td>\n",
       "      <td>128535</td>\n",
       "      <td>1001_2019-08-01</td>\n",
       "      <td>25</td>\n",
       "    </tr>\n",
       "    <tr>\n",
       "      <th>cfips</th>\n",
       "      <td>3213375</td>\n",
       "      <td>3135</td>\n",
       "      <td>1001</td>\n",
       "      <td>1025</td>\n",
       "    </tr>\n",
       "    <tr>\n",
       "      <th>county</th>\n",
       "      <td>3213375</td>\n",
       "      <td>1871</td>\n",
       "      <td>Washington County</td>\n",
       "      <td>30750</td>\n",
       "    </tr>\n",
       "    <tr>\n",
       "      <th>state</th>\n",
       "      <td>3213375</td>\n",
       "      <td>51</td>\n",
       "      <td>Texas</td>\n",
       "      <td>260350</td>\n",
       "    </tr>\n",
       "    <tr>\n",
       "      <th>first_day_of_month</th>\n",
       "      <td>3213375</td>\n",
       "      <td>41</td>\n",
       "      <td>2019-08-01</td>\n",
       "      <td>78375</td>\n",
       "    </tr>\n",
       "    <tr>\n",
       "      <th>Details</th>\n",
       "      <td>3213375</td>\n",
       "      <td>25</td>\n",
       "      <td>pct_bb_2017</td>\n",
       "      <td>128535</td>\n",
       "    </tr>\n",
       "    <tr>\n",
       "      <th>Year</th>\n",
       "      <td>3213375</td>\n",
       "      <td>5</td>\n",
       "      <td>2017</td>\n",
       "      <td>642675</td>\n",
       "    </tr>\n",
       "    <tr>\n",
       "      <th>Categories</th>\n",
       "      <td>3213375</td>\n",
       "      <td>5</td>\n",
       "      <td>pct_bb</td>\n",
       "      <td>642675</td>\n",
       "    </tr>\n",
       "  </tbody>\n",
       "</table>\n",
       "</div>"
      ],
      "text/plain": [
       "                      count  unique                top    freq\n",
       "row_id              3213375  128535    1001_2019-08-01      25\n",
       "cfips               3213375    3135               1001    1025\n",
       "county              3213375    1871  Washington County   30750\n",
       "state               3213375      51              Texas  260350\n",
       "first_day_of_month  3213375      41         2019-08-01   78375\n",
       "Details             3213375      25        pct_bb_2017  128535\n",
       "Year                3213375       5               2017  642675\n",
       "Categories          3213375       5             pct_bb  642675"
      ]
     },
     "execution_count": 25,
     "metadata": {},
     "output_type": "execute_result"
    }
   ],
   "source": [
    "complete_df.describe(include='object').T"
   ]
  },
  {
   "cell_type": "code",
   "execution_count": 26,
   "id": "4cb6e6cf-0bfc-4738-8f43-baea8b36f6d7",
   "metadata": {},
   "outputs": [
    {
     "data": {
      "text/plain": [
       "row_id                     0\n",
       "cfips                      0\n",
       "county                     0\n",
       "state                      0\n",
       "first_day_of_month         0\n",
       "microbusiness_density      0\n",
       "active                     0\n",
       "Details                    0\n",
       "Score                    164\n",
       "Year                       0\n",
       "Categories                 0\n",
       "dtype: int64"
      ]
     },
     "execution_count": 26,
     "metadata": {},
     "output_type": "execute_result"
    }
   ],
   "source": [
    "null_df=complete_df.isnull()\n",
    "null_df.sum()"
   ]
  },
  {
   "cell_type": "code",
   "execution_count": 27,
   "id": "48631c3c-3823-4ec1-8d5d-8ea64fee4c5c",
   "metadata": {},
   "outputs": [],
   "source": [
    "# outlier"
   ]
  },
  {
   "cell_type": "code",
   "execution_count": 28,
   "id": "14cece05-bb39-4cf9-be88-47aa62f2df29",
   "metadata": {},
   "outputs": [],
   "source": [
    "num_data=complete_df[[i for i in complete_df.columns if complete_df[i].dtypes!='object']]\n",
    "cat_data=complete_df[[i for i in complete_df.columns if complete_df[i].dtypes=='object']]"
   ]
  },
  {
   "cell_type": "code",
   "execution_count": 29,
   "id": "9f3a1a20-e7cd-49e1-922e-99164ae2bdc8",
   "metadata": {},
   "outputs": [
    {
     "data": {
      "text/plain": [
       "<Axes: >"
      ]
     },
     "execution_count": 29,
     "metadata": {},
     "output_type": "execute_result"
    },
    {
     "data": {
      "image/png": "[encoded data removed]",
      "text/plain": [
       "<Figure size 640x480 with 2 Axes>"
      ]
     },
     "metadata": {},
     "output_type": "display_data"
    }
   ],
   "source": [
    "sns.heatmap(num_data.corr(),annot=True)"
   ]
  },
  {
   "cell_type": "code",
   "execution_count": 30,
   "id": "3ae83970-c278-4651-8d51-dc4afab8280e",
   "metadata": {},
   "outputs": [],
   "source": [
    "# pairplot"
   ]
  },
  {
   "cell_type": "code",
   "execution_count": 31,
   "id": "f513d707-f6c4-478e-ba7c-066ed48c9faa",
   "metadata": {},
   "outputs": [],
   "source": [
    "# parallel_cordinates categorical data"
   ]
  },
  {
   "cell_type": "code",
   "execution_count": 32,
   "id": "34d60553-a7d7-4b4d-b046-6d53b30e5aa0",
   "metadata": {},
   "outputs": [],
   "source": [
    "#px.parallel_coordinates(complete_df[[\"state\",\"Year\",\"Categories\"]],color='state')"
   ]
  },
  {
   "cell_type": "code",
   "execution_count": 33,
   "id": "b58e79f9-a924-48b3-b7e1-887af446c28f",
   "metadata": {},
   "outputs": [],
   "source": [
    "#sns.pairplot(num_data)"
   ]
  },
  {
   "cell_type": "code",
   "execution_count": 34,
   "id": "863b8af2-51ba-44cf-b7c1-80818e36ac58",
   "metadata": {},
   "outputs": [],
   "source": [
    "Q1=[num_data[i].quantile(0.25) for i in num_data.columns]\n",
    "Q3=[num_data[i].quantile(0.75) for i in num_data.columns]\n",
    "\n",
    "col=[i for i in num_data.columns]"
   ]
  },
  {
   "cell_type": "code",
   "execution_count": 35,
   "id": "3643760e-9ca0-46b0-9838-3ecd026f631b",
   "metadata": {},
   "outputs": [],
   "source": [
    "IQR=pd.DataFrame({\"columns\":col,\"Q1\":Q1,\"Q3\":Q3})"
   ]
  },
  {
   "cell_type": "code",
   "execution_count": 36,
   "id": "7aca5a5a-fde9-4dc6-97f9-650aac2c35f8",
   "metadata": {},
   "outputs": [],
   "source": [
    "IQR[\"IQR\"]=IQR[\"Q3\"]-IQR[\"Q1\"]"
   ]
  },
  {
   "cell_type": "code",
   "execution_count": 37,
   "id": "7c75da76-9356-4239-a456-f0482b74cfb2",
   "metadata": {},
   "outputs": [],
   "source": [
    "IQR[\"Upper_fence\"]=IQR[\"Q3\"]+(IQR[\"IQR\"]*1.5)\n",
    "IQR[\"Lower_fence\"]=IQR[\"Q1\"]-(IQR[\"IQR\"]*1.5)"
   ]
  },
  {
   "cell_type": "code",
   "execution_count": 38,
   "id": "fbf077c7-49d4-4283-a518-443b804a8f11",
   "metadata": {},
   "outputs": [
    {
     "data": {
      "text/html": [
       "<div>\n",
       "<style scoped>\n",
       "    .dataframe tbody tr th:only-of-type {\n",
       "        vertical-align: middle;\n",
       "    }\n",
       "\n",
       "    .dataframe tbody tr th {\n",
       "        vertical-align: top;\n",
       "    }\n",
       "\n",
       "    .dataframe thead th {\n",
       "        text-align: right;\n",
       "    }\n",
       "</style>\n",
       "<table border=\"1\" class=\"dataframe\">\n",
       "  <thead>\n",
       "    <tr style=\"text-align: right;\">\n",
       "      <th></th>\n",
       "      <th>columns</th>\n",
       "      <th>Q1</th>\n",
       "      <th>Q3</th>\n",
       "      <th>IQR</th>\n",
       "      <th>Upper_fence</th>\n",
       "      <th>Lower_fence</th>\n",
       "    </tr>\n",
       "  </thead>\n",
       "  <tbody>\n",
       "    <tr>\n",
       "      <th>0</th>\n",
       "      <td>microbusiness_density</td>\n",
       "      <td>1.642628</td>\n",
       "      <td>4.525961</td>\n",
       "      <td>2.883333</td>\n",
       "      <td>8.85096</td>\n",
       "      <td>-2.682371</td>\n",
       "    </tr>\n",
       "    <tr>\n",
       "      <th>1</th>\n",
       "      <td>active</td>\n",
       "      <td>145.000000</td>\n",
       "      <td>2127.000000</td>\n",
       "      <td>1982.000000</td>\n",
       "      <td>5100.00000</td>\n",
       "      <td>-2828.000000</td>\n",
       "    </tr>\n",
       "    <tr>\n",
       "      <th>2</th>\n",
       "      <td>Score</td>\n",
       "      <td>2.100000</td>\n",
       "      <td>82.300000</td>\n",
       "      <td>80.200000</td>\n",
       "      <td>202.60000</td>\n",
       "      <td>-118.200000</td>\n",
       "    </tr>\n",
       "  </tbody>\n",
       "</table>\n",
       "</div>"
      ],
      "text/plain": [
       "                 columns          Q1           Q3          IQR  Upper_fence  \\\n",
       "0  microbusiness_density    1.642628     4.525961     2.883333      8.85096   \n",
       "1                 active  145.000000  2127.000000  1982.000000   5100.00000   \n",
       "2                  Score    2.100000    82.300000    80.200000    202.60000   \n",
       "\n",
       "   Lower_fence  \n",
       "0    -2.682371  \n",
       "1 -2828.000000  \n",
       "2  -118.200000  "
      ]
     },
     "execution_count": 38,
     "metadata": {},
     "output_type": "execute_result"
    }
   ],
   "source": [
    "IQR"
   ]
  },
  {
   "cell_type": "markdown",
   "id": "3bb439f6-921e-4922-b954-5835ecd5b6cc",
   "metadata": {},
   "source": [
    "# treatment"
   ]
  },
  {
   "cell_type": "code",
   "execution_count": 39,
   "id": "e6431b9a-19f8-466c-8c34-68e6f223c510",
   "metadata": {},
   "outputs": [],
   "source": [
    "from sklearn.preprocessing import StandardScaler"
   ]
  },
  {
   "cell_type": "code",
   "execution_count": 40,
   "id": "ccb1929c-a670-41f9-bc36-5bb9f91bf400",
   "metadata": {},
   "outputs": [],
   "source": [
    "ss=StandardScaler()"
   ]
  },
  {
   "cell_type": "code",
   "execution_count": 41,
   "id": "d9dc7217-decb-4e2d-86b4-3daec53442ec",
   "metadata": {},
   "outputs": [],
   "source": [
    "for i in  complete_df.columns:\n",
    "    if complete_df[i].dtypes !='object':\n",
    "        complete_df[i+\"_std\"]=ss.fit_transform(complete_df[[i]])"
   ]
  },
  {
   "cell_type": "code",
   "execution_count": 42,
   "id": "03d16b7a-d879-4230-83c1-b1599c574770",
   "metadata": {},
   "outputs": [],
   "source": [
    "for i in complete_df.columns:\n",
    "    if i.endswith(\"_std\"):\n",
    "        global df2\n",
    "        df2=complete_df[complete_df[i].between(-3,3)]"
   ]
  },
  {
   "cell_type": "code",
   "execution_count": 43,
   "id": "6b9566dd-d9a4-4e0c-9c76-04cfdc01de7b",
   "metadata": {},
   "outputs": [
    {
     "data": {
      "text/plain": [
       "98.76363636363637"
      ]
     },
     "execution_count": 43,
     "metadata": {},
     "output_type": "execute_result"
    }
   ],
   "source": [
    "(df2.shape[0]/complete_df.shape[0])*100"
   ]
  },
  {
   "cell_type": "code",
   "execution_count": 44,
   "id": "edc679f1-5846-4568-9adc-a709c749d3c9",
   "metadata": {},
   "outputs": [],
   "source": [
    "for i in complete_df:\n",
    "    if i in num_data.columns:\n",
    "        global df\n",
    "        df=complete_df[complete_df[i].between(complete_df[i].quantile(0.25)-((complete_df[i].quantile(0.75)-complete_df[i].quantile(0.25))*1.5),\n",
    "                                             complete_df[i].quantile(0.75)+((complete_df[i].quantile(0.75)-complete_df[i].quantile(0.25))*1.5))]"
   ]
  },
  {
   "cell_type": "code",
   "execution_count": 45,
   "id": "fa167efb-2d3b-460f-8c92-9862d36d09e5",
   "metadata": {},
   "outputs": [
    {
     "data": {
      "text/plain": [
       "79.99872408293461"
      ]
     },
     "execution_count": 45,
     "metadata": {},
     "output_type": "execute_result"
    }
   ],
   "source": [
    "(df.shape[0]/complete_df.shape[0])*100"
   ]
  },
  {
   "cell_type": "code",
   "execution_count": 46,
   "id": "9a92f6d4-5aef-4607-ab89-8c2d2b1bf2ba",
   "metadata": {},
   "outputs": [
    {
     "data": {
      "text/plain": [
       "row_id                       0\n",
       "cfips                        0\n",
       "county                       0\n",
       "state                        0\n",
       "first_day_of_month           0\n",
       "microbusiness_density        0\n",
       "active                       0\n",
       "Details                      0\n",
       "Score                        0\n",
       "Year                         0\n",
       "Categories                   0\n",
       "microbusiness_density_std    0\n",
       "active_std                   0\n",
       "Score_std                    0\n",
       "dtype: int64"
      ]
     },
     "execution_count": 46,
     "metadata": {},
     "output_type": "execute_result"
    }
   ],
   "source": [
    "df2.isnull().sum()"
   ]
  },
  {
   "cell_type": "code",
   "execution_count": 47,
   "id": "1940906a-9af8-4f19-8937-3a61c1ccf310",
   "metadata": {},
   "outputs": [
    {
     "data": {
      "text/html": [
       "<div>\n",
       "<style scoped>\n",
       "    .dataframe tbody tr th:only-of-type {\n",
       "        vertical-align: middle;\n",
       "    }\n",
       "\n",
       "    .dataframe tbody tr th {\n",
       "        vertical-align: top;\n",
       "    }\n",
       "\n",
       "    .dataframe thead th {\n",
       "        text-align: right;\n",
       "    }\n",
       "</style>\n",
       "<table border=\"1\" class=\"dataframe\">\n",
       "  <thead>\n",
       "    <tr style=\"text-align: right;\">\n",
       "      <th></th>\n",
       "      <th>North</th>\n",
       "      <th>South</th>\n",
       "      <th>Category</th>\n",
       "    </tr>\n",
       "  </thead>\n",
       "  <tbody>\n",
       "    <tr>\n",
       "      <th>0</th>\n",
       "      <td>100</td>\n",
       "      <td>200</td>\n",
       "      <td>Furniture</td>\n",
       "    </tr>\n",
       "    <tr>\n",
       "      <th>1</th>\n",
       "      <td>100</td>\n",
       "      <td>200</td>\n",
       "      <td>Phone</td>\n",
       "    </tr>\n",
       "    <tr>\n",
       "      <th>2</th>\n",
       "      <td>105</td>\n",
       "      <td>208</td>\n",
       "      <td>Office</td>\n",
       "    </tr>\n",
       "  </tbody>\n",
       "</table>\n",
       "</div>"
      ],
      "text/plain": [
       "   North  South   Category\n",
       "0    100    200  Furniture\n",
       "1    100    200      Phone\n",
       "2    105    208     Office"
      ]
     },
     "execution_count": 47,
     "metadata": {},
     "output_type": "execute_result"
    }
   ],
   "source": [
    "d=pd.DataFrame({\"North\":[100,100,105],\"South\":[200,200,208],\"Category\":[\"Furniture\",\"Phone\",\"Office\"]})\n",
    "d"
   ]
  },
  {
   "cell_type": "code",
   "execution_count": 48,
   "id": "1c4a6789-d2d3-48ae-b177-12fa41f95e9a",
   "metadata": {},
   "outputs": [
    {
     "data": {
      "text/html": [
       "<div>\n",
       "<style scoped>\n",
       "    .dataframe tbody tr th:only-of-type {\n",
       "        vertical-align: middle;\n",
       "    }\n",
       "\n",
       "    .dataframe tbody tr th {\n",
       "        vertical-align: top;\n",
       "    }\n",
       "\n",
       "    .dataframe thead th {\n",
       "        text-align: right;\n",
       "    }\n",
       "</style>\n",
       "<table border=\"1\" class=\"dataframe\">\n",
       "  <thead>\n",
       "    <tr style=\"text-align: right;\">\n",
       "      <th></th>\n",
       "      <th>Category</th>\n",
       "      <th>Region</th>\n",
       "      <th>Sales</th>\n",
       "    </tr>\n",
       "  </thead>\n",
       "  <tbody>\n",
       "    <tr>\n",
       "      <th>0</th>\n",
       "      <td>Furniture</td>\n",
       "      <td>North</td>\n",
       "      <td>100</td>\n",
       "    </tr>\n",
       "    <tr>\n",
       "      <th>1</th>\n",
       "      <td>Phone</td>\n",
       "      <td>North</td>\n",
       "      <td>100</td>\n",
       "    </tr>\n",
       "    <tr>\n",
       "      <th>2</th>\n",
       "      <td>Office</td>\n",
       "      <td>North</td>\n",
       "      <td>105</td>\n",
       "    </tr>\n",
       "    <tr>\n",
       "      <th>3</th>\n",
       "      <td>Furniture</td>\n",
       "      <td>South</td>\n",
       "      <td>200</td>\n",
       "    </tr>\n",
       "    <tr>\n",
       "      <th>4</th>\n",
       "      <td>Phone</td>\n",
       "      <td>South</td>\n",
       "      <td>200</td>\n",
       "    </tr>\n",
       "    <tr>\n",
       "      <th>5</th>\n",
       "      <td>Office</td>\n",
       "      <td>South</td>\n",
       "      <td>208</td>\n",
       "    </tr>\n",
       "  </tbody>\n",
       "</table>\n",
       "</div>"
      ],
      "text/plain": [
       "    Category Region  Sales\n",
       "0  Furniture  North    100\n",
       "1      Phone  North    100\n",
       "2     Office  North    105\n",
       "3  Furniture  South    200\n",
       "4      Phone  South    200\n",
       "5     Office  South    208"
      ]
     },
     "execution_count": 48,
     "metadata": {},
     "output_type": "execute_result"
    }
   ],
   "source": [
    "pd.melt(d,id_vars=\"Category\",value_vars=[\"North\",\"South\"]).rename(columns={\"variable\":\"Region\",\"value\":\"Sales\"})"
   ]
  },
  {
   "cell_type": "code",
   "execution_count": 49,
   "id": "7480f6e8-aaaa-4c79-a810-e050240d8ff1",
   "metadata": {},
   "outputs": [
    {
     "data": {
      "text/plain": [
       "[]"
      ]
     },
     "execution_count": 49,
     "metadata": {},
     "output_type": "execute_result"
    }
   ],
   "source": [
    "[i for i in df.columns if df[i].isnull().sum()>0]"
   ]
  },
  {
   "cell_type": "code",
   "execution_count": 50,
   "id": "9d421e92-617d-447c-a9dd-2a219cfbf83a",
   "metadata": {},
   "outputs": [],
   "source": [
    "# 1) mean / median /mode\n",
    "# 2) ffill / bfill\n",
    "# 3) domain specific knowledge\n",
    "# 4) interpretation"
   ]
  },
  {
   "cell_type": "markdown",
   "id": "613b14d3-53a7-4f4e-b7fe-0f32bd0f8413",
   "metadata": {},
   "source": [
    "# feature engineering"
   ]
  },
  {
   "cell_type": "code",
   "execution_count": 51,
   "id": "351b7052-28f8-4877-a966-66053c93d145",
   "metadata": {},
   "outputs": [
    {
     "name": "stderr",
     "output_type": "stream",
     "text": [
      "C:\\Users\\Dell\\AppData\\Local\\Temp\\ipykernel_25604\\298978132.py:1: SettingWithCopyWarning: \n",
      "A value is trying to be set on a copy of a slice from a DataFrame\n",
      "\n",
      "See the caveats in the documentation: https://pandas.pydata.org/pandas-docs/stable/user_guide/indexing.html#returning-a-view-versus-a-copy\n",
      "  df2.drop(['microbusiness_density_std','active_std', 'Score_std'],axis=1,inplace=True)\n"
     ]
    }
   ],
   "source": [
    "df2.drop(['microbusiness_density_std','active_std', 'Score_std'],axis=1,inplace=True)\n"
   ]
  },
  {
   "cell_type": "code",
   "execution_count": null,
   "id": "6c5cc342-7954-4da2-a2f0-28e0c0acc9cc",
   "metadata": {},
   "outputs": [],
   "source": []
  },
  {
   "cell_type": "code",
   "execution_count": 52,
   "id": "018c1fd4-550b-43c1-a3d6-8724f8165bfc",
   "metadata": {},
   "outputs": [],
   "source": [
    "df3=df2.copy()"
   ]
  },
  {
   "cell_type": "code",
   "execution_count": 53,
   "id": "fbafad8d-0a50-4ec4-b608-bcd6ba4184d7",
   "metadata": {},
   "outputs": [],
   "source": [
    "from sklearn.preprocessing import LabelEncoder"
   ]
  },
  {
   "cell_type": "code",
   "execution_count": 54,
   "id": "e982381c-53a2-4e52-9860-51652f6d5623",
   "metadata": {},
   "outputs": [
    {
     "name": "stderr",
     "output_type": "stream",
     "text": [
      "C:\\Users\\Dell\\AppData\\Local\\Temp\\ipykernel_25604\\1325843948.py:3: SettingWithCopyWarning: \n",
      "A value is trying to be set on a copy of a slice from a DataFrame.\n",
      "Try using .loc[row_indexer,col_indexer] = value instead\n",
      "\n",
      "See the caveats in the documentation: https://pandas.pydata.org/pandas-docs/stable/user_guide/indexing.html#returning-a-view-versus-a-copy\n",
      "  df2[i]=LabelEncoder().fit_transform(df2[i])\n",
      "C:\\Users\\Dell\\AppData\\Local\\Temp\\ipykernel_25604\\1325843948.py:3: SettingWithCopyWarning: \n",
      "A value is trying to be set on a copy of a slice from a DataFrame.\n",
      "Try using .loc[row_indexer,col_indexer] = value instead\n",
      "\n",
      "See the caveats in the documentation: https://pandas.pydata.org/pandas-docs/stable/user_guide/indexing.html#returning-a-view-versus-a-copy\n",
      "  df2[i]=LabelEncoder().fit_transform(df2[i])\n",
      "C:\\Users\\Dell\\AppData\\Local\\Temp\\ipykernel_25604\\1325843948.py:3: SettingWithCopyWarning: \n",
      "A value is trying to be set on a copy of a slice from a DataFrame.\n",
      "Try using .loc[row_indexer,col_indexer] = value instead\n",
      "\n",
      "See the caveats in the documentation: https://pandas.pydata.org/pandas-docs/stable/user_guide/indexing.html#returning-a-view-versus-a-copy\n",
      "  df2[i]=LabelEncoder().fit_transform(df2[i])\n",
      "C:\\Users\\Dell\\AppData\\Local\\Temp\\ipykernel_25604\\1325843948.py:3: SettingWithCopyWarning: \n",
      "A value is trying to be set on a copy of a slice from a DataFrame.\n",
      "Try using .loc[row_indexer,col_indexer] = value instead\n",
      "\n",
      "See the caveats in the documentation: https://pandas.pydata.org/pandas-docs/stable/user_guide/indexing.html#returning-a-view-versus-a-copy\n",
      "  df2[i]=LabelEncoder().fit_transform(df2[i])\n",
      "C:\\Users\\Dell\\AppData\\Local\\Temp\\ipykernel_25604\\1325843948.py:3: SettingWithCopyWarning: \n",
      "A value is trying to be set on a copy of a slice from a DataFrame.\n",
      "Try using .loc[row_indexer,col_indexer] = value instead\n",
      "\n",
      "See the caveats in the documentation: https://pandas.pydata.org/pandas-docs/stable/user_guide/indexing.html#returning-a-view-versus-a-copy\n",
      "  df2[i]=LabelEncoder().fit_transform(df2[i])\n",
      "C:\\Users\\Dell\\AppData\\Local\\Temp\\ipykernel_25604\\1325843948.py:3: SettingWithCopyWarning: \n",
      "A value is trying to be set on a copy of a slice from a DataFrame.\n",
      "Try using .loc[row_indexer,col_indexer] = value instead\n",
      "\n",
      "See the caveats in the documentation: https://pandas.pydata.org/pandas-docs/stable/user_guide/indexing.html#returning-a-view-versus-a-copy\n",
      "  df2[i]=LabelEncoder().fit_transform(df2[i])\n",
      "C:\\Users\\Dell\\AppData\\Local\\Temp\\ipykernel_25604\\1325843948.py:3: SettingWithCopyWarning: \n",
      "A value is trying to be set on a copy of a slice from a DataFrame.\n",
      "Try using .loc[row_indexer,col_indexer] = value instead\n",
      "\n",
      "See the caveats in the documentation: https://pandas.pydata.org/pandas-docs/stable/user_guide/indexing.html#returning-a-view-versus-a-copy\n",
      "  df2[i]=LabelEncoder().fit_transform(df2[i])\n",
      "C:\\Users\\Dell\\AppData\\Local\\Temp\\ipykernel_25604\\1325843948.py:3: SettingWithCopyWarning: \n",
      "A value is trying to be set on a copy of a slice from a DataFrame.\n",
      "Try using .loc[row_indexer,col_indexer] = value instead\n",
      "\n",
      "See the caveats in the documentation: https://pandas.pydata.org/pandas-docs/stable/user_guide/indexing.html#returning-a-view-versus-a-copy\n",
      "  df2[i]=LabelEncoder().fit_transform(df2[i])\n"
     ]
    }
   ],
   "source": [
    "for i in df2.columns:\n",
    "    if df2[i].dtypes==\"object\":\n",
    "        df2[i]=LabelEncoder().fit_transform(df2[i])"
   ]
  },
  {
   "cell_type": "code",
   "execution_count": 55,
   "id": "67363538-cddb-4f25-bd08-c26b63fdd96f",
   "metadata": {},
   "outputs": [
    {
     "data": {
      "text/plain": [
       "<Axes: >"
      ]
     },
     "execution_count": 55,
     "metadata": {},
     "output_type": "execute_result"
    },
    {
     "data": {
      "image/png": "[encoded data removed]",
      "text/plain": [
       "<Figure size 2000x500 with 2 Axes>"
      ]
     },
     "metadata": {},
     "output_type": "display_data"
    }
   ],
   "source": [
    "plt.figure(figsize=(20,5))\n",
    "sns.heatmap(df2.corr(),annot=True)"
   ]
  },
  {
   "cell_type": "code",
   "execution_count": 56,
   "id": "6b6f2cbc-40de-4e8d-ac68-ed01bb188b76",
   "metadata": {},
   "outputs": [],
   "source": [
    "import statsmodels.api as sm \n",
    "from statsmodels.formula.api import ols"
   ]
  },
  {
   "cell_type": "code",
   "execution_count": 57,
   "id": "10068a99-973f-45e6-b604-4348a50ffb15",
   "metadata": {},
   "outputs": [
    {
     "data": {
      "text/plain": [
       "['row_id',\n",
       " 'cfips',\n",
       " 'county',\n",
       " 'state',\n",
       " 'first_day_of_month',\n",
       " 'Details',\n",
       " 'Year',\n",
       " 'Categories']"
      ]
     },
     "execution_count": 57,
     "metadata": {},
     "output_type": "execute_result"
    }
   ],
   "source": [
    "cat_col=[ i for i in df3.columns if df3[i].dtypes==\"object\"]\n",
    "cat_col"
   ]
  },
  {
   "cell_type": "code",
   "execution_count": 58,
   "id": "c92e03c9-ce1c-4d1f-841e-cb1abb593aec",
   "metadata": {},
   "outputs": [],
   "source": [
    "df3[\"microbusiness_density\"]=df3[\"microbusiness_density\"].astype('int')"
   ]
  },
  {
   "cell_type": "code",
   "execution_count": 60,
   "id": "e33166a2-a2ad-4a52-bee1-4e933f6aa6b0",
   "metadata": {},
   "outputs": [],
   "source": [
    "model=ols('microbusiness_density ~ C(row_id) + C(cfips) + C(row_id):C(cfips)' ,data=df3.iloc[:10000,:]).fit()"
   ]
  },
  {
   "cell_type": "code",
   "execution_count": 61,
   "id": "3dd735be-7b7b-431e-8488-814958df0558",
   "metadata": {},
   "outputs": [
    {
     "data": {
      "text/html": [
       "<div>\n",
       "<style scoped>\n",
       "    .dataframe tbody tr th:only-of-type {\n",
       "        vertical-align: middle;\n",
       "    }\n",
       "\n",
       "    .dataframe tbody tr th {\n",
       "        vertical-align: top;\n",
       "    }\n",
       "\n",
       "    .dataframe thead th {\n",
       "        text-align: right;\n",
       "    }\n",
       "</style>\n",
       "<table border=\"1\" class=\"dataframe\">\n",
       "  <thead>\n",
       "    <tr style=\"text-align: right;\">\n",
       "      <th></th>\n",
       "      <th>df</th>\n",
       "      <th>sum_sq</th>\n",
       "      <th>mean_sq</th>\n",
       "      <th>F</th>\n",
       "      <th>PR(&gt;F)</th>\n",
       "    </tr>\n",
       "  </thead>\n",
       "  <tbody>\n",
       "    <tr>\n",
       "      <th>C(row_id)</th>\n",
       "      <td>399.0</td>\n",
       "      <td>3.891600e+04</td>\n",
       "      <td>9.753383e+01</td>\n",
       "      <td>4.089421e+05</td>\n",
       "      <td>0.0</td>\n",
       "    </tr>\n",
       "    <tr>\n",
       "      <th>C(cfips)</th>\n",
       "      <td>10.0</td>\n",
       "      <td>2.409115e-22</td>\n",
       "      <td>2.409115e-23</td>\n",
       "      <td>1.010099e-19</td>\n",
       "      <td>1.0</td>\n",
       "    </tr>\n",
       "    <tr>\n",
       "      <th>C(row_id):C(cfips)</th>\n",
       "      <td>3990.0</td>\n",
       "      <td>7.764394e-24</td>\n",
       "      <td>1.945964e-27</td>\n",
       "      <td>8.159081e-24</td>\n",
       "      <td>1.0</td>\n",
       "    </tr>\n",
       "    <tr>\n",
       "      <th>Residual</th>\n",
       "      <td>9600.0</td>\n",
       "      <td>2.289627e+00</td>\n",
       "      <td>2.385028e-04</td>\n",
       "      <td>NaN</td>\n",
       "      <td>NaN</td>\n",
       "    </tr>\n",
       "  </tbody>\n",
       "</table>\n",
       "</div>"
      ],
      "text/plain": [
       "                        df        sum_sq       mean_sq             F  PR(>F)\n",
       "C(row_id)            399.0  3.891600e+04  9.753383e+01  4.089421e+05     0.0\n",
       "C(cfips)              10.0  2.409115e-22  2.409115e-23  1.010099e-19     1.0\n",
       "C(row_id):C(cfips)  3990.0  7.764394e-24  1.945964e-27  8.159081e-24     1.0\n",
       "Residual            9600.0  2.289627e+00  2.385028e-04           NaN     NaN"
      ]
     },
     "execution_count": 61,
     "metadata": {},
     "output_type": "execute_result"
    }
   ],
   "source": [
    "sm.stats.anova_lm(model,type=2)\n",
    "        "
   ]
  },
  {
   "cell_type": "code",
   "execution_count": 63,
   "id": "a2a1ee23-7e69-494e-a364-61746c71cca6",
   "metadata": {},
   "outputs": [
    {
     "name": "stderr",
     "output_type": "stream",
     "text": [
      "C:\\Users\\Dell\\AppData\\Local\\Temp\\ipykernel_25604\\1638331098.py:1: SettingWithCopyWarning: \n",
      "A value is trying to be set on a copy of a slice from a DataFrame\n",
      "\n",
      "See the caveats in the documentation: https://pandas.pydata.org/pandas-docs/stable/user_guide/indexing.html#returning-a-view-versus-a-copy\n",
      "  df2.drop([\"row_id\",\"cfips\"],axis=1,inplace=True)\n"
     ]
    }
   ],
   "source": [
    "df2.drop([\"row_id\",\"cfips\"],axis=1,inplace=True)"
   ]
  },
  {
   "cell_type": "code",
   "execution_count": 64,
   "id": "dafb9787-aa5a-43d8-95b0-2bd2edb7ea6a",
   "metadata": {},
   "outputs": [
    {
     "data": {
      "text/html": [
       "<div>\n",
       "<style scoped>\n",
       "    .dataframe tbody tr th:only-of-type {\n",
       "        vertical-align: middle;\n",
       "    }\n",
       "\n",
       "    .dataframe tbody tr th {\n",
       "        vertical-align: top;\n",
       "    }\n",
       "\n",
       "    .dataframe thead th {\n",
       "        text-align: right;\n",
       "    }\n",
       "</style>\n",
       "<table border=\"1\" class=\"dataframe\">\n",
       "  <thead>\n",
       "    <tr style=\"text-align: right;\">\n",
       "      <th></th>\n",
       "      <th>county</th>\n",
       "      <th>state</th>\n",
       "      <th>first_day_of_month</th>\n",
       "      <th>microbusiness_density</th>\n",
       "      <th>active</th>\n",
       "      <th>Details</th>\n",
       "      <th>Score</th>\n",
       "      <th>Year</th>\n",
       "      <th>Categories</th>\n",
       "    </tr>\n",
       "  </thead>\n",
       "  <tbody>\n",
       "    <tr>\n",
       "      <th>0</th>\n",
       "      <td>82</td>\n",
       "      <td>0</td>\n",
       "      <td>0</td>\n",
       "      <td>3.007682</td>\n",
       "      <td>1249</td>\n",
       "      <td>5</td>\n",
       "      <td>76.6</td>\n",
       "      <td>0</td>\n",
       "      <td>1</td>\n",
       "    </tr>\n",
       "    <tr>\n",
       "      <th>1</th>\n",
       "      <td>82</td>\n",
       "      <td>0</td>\n",
       "      <td>0</td>\n",
       "      <td>3.007682</td>\n",
       "      <td>1249</td>\n",
       "      <td>6</td>\n",
       "      <td>78.9</td>\n",
       "      <td>1</td>\n",
       "      <td>1</td>\n",
       "    </tr>\n",
       "    <tr>\n",
       "      <th>2</th>\n",
       "      <td>82</td>\n",
       "      <td>0</td>\n",
       "      <td>0</td>\n",
       "      <td>3.007682</td>\n",
       "      <td>1249</td>\n",
       "      <td>7</td>\n",
       "      <td>80.6</td>\n",
       "      <td>2</td>\n",
       "      <td>1</td>\n",
       "    </tr>\n",
       "    <tr>\n",
       "      <th>3</th>\n",
       "      <td>82</td>\n",
       "      <td>0</td>\n",
       "      <td>0</td>\n",
       "      <td>3.007682</td>\n",
       "      <td>1249</td>\n",
       "      <td>8</td>\n",
       "      <td>82.7</td>\n",
       "      <td>3</td>\n",
       "      <td>1</td>\n",
       "    </tr>\n",
       "    <tr>\n",
       "      <th>4</th>\n",
       "      <td>82</td>\n",
       "      <td>0</td>\n",
       "      <td>0</td>\n",
       "      <td>3.007682</td>\n",
       "      <td>1249</td>\n",
       "      <td>9</td>\n",
       "      <td>85.5</td>\n",
       "      <td>4</td>\n",
       "      <td>1</td>\n",
       "    </tr>\n",
       "    <tr>\n",
       "      <th>...</th>\n",
       "      <td>...</td>\n",
       "      <td>...</td>\n",
       "      <td>...</td>\n",
       "      <td>...</td>\n",
       "      <td>...</td>\n",
       "      <td>...</td>\n",
       "      <td>...</td>\n",
       "      <td>...</td>\n",
       "      <td>...</td>\n",
       "    </tr>\n",
       "    <tr>\n",
       "      <th>3213370</th>\n",
       "      <td>1793</td>\n",
       "      <td>50</td>\n",
       "      <td>40</td>\n",
       "      <td>1.803249</td>\n",
       "      <td>101</td>\n",
       "      <td>0</td>\n",
       "      <td>59605.0</td>\n",
       "      <td>0</td>\n",
       "      <td>0</td>\n",
       "    </tr>\n",
       "    <tr>\n",
       "      <th>3213371</th>\n",
       "      <td>1793</td>\n",
       "      <td>50</td>\n",
       "      <td>40</td>\n",
       "      <td>1.803249</td>\n",
       "      <td>101</td>\n",
       "      <td>1</td>\n",
       "      <td>52867.0</td>\n",
       "      <td>1</td>\n",
       "      <td>0</td>\n",
       "    </tr>\n",
       "    <tr>\n",
       "      <th>3213372</th>\n",
       "      <td>1793</td>\n",
       "      <td>50</td>\n",
       "      <td>40</td>\n",
       "      <td>1.803249</td>\n",
       "      <td>101</td>\n",
       "      <td>2</td>\n",
       "      <td>57031.0</td>\n",
       "      <td>2</td>\n",
       "      <td>0</td>\n",
       "    </tr>\n",
       "    <tr>\n",
       "      <th>3213373</th>\n",
       "      <td>1793</td>\n",
       "      <td>50</td>\n",
       "      <td>40</td>\n",
       "      <td>1.803249</td>\n",
       "      <td>101</td>\n",
       "      <td>3</td>\n",
       "      <td>53333.0</td>\n",
       "      <td>3</td>\n",
       "      <td>0</td>\n",
       "    </tr>\n",
       "    <tr>\n",
       "      <th>3213374</th>\n",
       "      <td>1793</td>\n",
       "      <td>50</td>\n",
       "      <td>40</td>\n",
       "      <td>1.803249</td>\n",
       "      <td>101</td>\n",
       "      <td>4</td>\n",
       "      <td>65566.0</td>\n",
       "      <td>4</td>\n",
       "      <td>0</td>\n",
       "    </tr>\n",
       "  </tbody>\n",
       "</table>\n",
       "<p>3173646 rows × 9 columns</p>\n",
       "</div>"
      ],
      "text/plain": [
       "         county  state  first_day_of_month  microbusiness_density  active  \\\n",
       "0            82      0                   0               3.007682    1249   \n",
       "1            82      0                   0               3.007682    1249   \n",
       "2            82      0                   0               3.007682    1249   \n",
       "3            82      0                   0               3.007682    1249   \n",
       "4            82      0                   0               3.007682    1249   \n",
       "...         ...    ...                 ...                    ...     ...   \n",
       "3213370    1793     50                  40               1.803249     101   \n",
       "3213371    1793     50                  40               1.803249     101   \n",
       "3213372    1793     50                  40               1.803249     101   \n",
       "3213373    1793     50                  40               1.803249     101   \n",
       "3213374    1793     50                  40               1.803249     101   \n",
       "\n",
       "         Details    Score  Year  Categories  \n",
       "0              5     76.6     0           1  \n",
       "1              6     78.9     1           1  \n",
       "2              7     80.6     2           1  \n",
       "3              8     82.7     3           1  \n",
       "4              9     85.5     4           1  \n",
       "...          ...      ...   ...         ...  \n",
       "3213370        0  59605.0     0           0  \n",
       "3213371        1  52867.0     1           0  \n",
       "3213372        2  57031.0     2           0  \n",
       "3213373        3  53333.0     3           0  \n",
       "3213374        4  65566.0     4           0  \n",
       "\n",
       "[3173646 rows x 9 columns]"
      ]
     },
     "execution_count": 64,
     "metadata": {},
     "output_type": "execute_result"
    }
   ],
   "source": [
    "df2"
   ]
  },
  {
   "cell_type": "code",
   "execution_count": 71,
   "id": "6068b549-9ab0-4c51-9ffc-767d8635977c",
   "metadata": {},
   "outputs": [],
   "source": [
    "# feature Scaling "
   ]
  },
  {
   "cell_type": "code",
   "execution_count": 66,
   "id": "9fc71676-dc67-4b98-be38-64f9bfd073db",
   "metadata": {},
   "outputs": [],
   "source": [
    "y=df2.microbusiness_density"
   ]
  },
  {
   "cell_type": "code",
   "execution_count": 69,
   "id": "320b2b4a-093c-49f0-9379-81c697fbd173",
   "metadata": {},
   "outputs": [],
   "source": [
    "x=df2.drop(\"microbusiness_density\",axis=1)"
   ]
  },
  {
   "cell_type": "code",
   "execution_count": 72,
   "id": "5e1521f4-5d18-4b72-84d9-69c3d45c04ff",
   "metadata": {},
   "outputs": [],
   "source": [
    "from sklearn.preprocessing import StandardScaler"
   ]
  },
  {
   "cell_type": "code",
   "execution_count": 73,
   "id": "e5bf2d48-5020-45d2-8f93-85edfd8cd240",
   "metadata": {},
   "outputs": [],
   "source": [
    "ss=StandardScaler()"
   ]
  },
  {
   "cell_type": "code",
   "execution_count": 94,
   "id": "0b25f16f-c00d-4580-ae33-f4a316a504e8",
   "metadata": {},
   "outputs": [],
   "source": [
    "x_scaled=pd.DataFrame(ss.fit_transform(x))"
   ]
  },
  {
   "cell_type": "markdown",
   "id": "13b9cb24-5b44-4dc9-b79c-9e4df1545af0",
   "metadata": {},
   "source": [
    "# visualize"
   ]
  },
  {
   "cell_type": "code",
   "execution_count": 146,
   "id": "153fc353-5d2a-42a0-912d-68926b86ccaa",
   "metadata": {},
   "outputs": [
    {
     "data": {
      "text/plain": [
       "<Axes: xlabel='county', ylabel='microbusiness_density'>"
      ]
     },
     "execution_count": 146,
     "metadata": {},
     "output_type": "execute_result"
    },
    {
     "data": {
      "image/png": "[encoded data removed]",
      "text/plain": [
       "<Figure size 2000x500 with 1 Axes>"
      ]
     },
     "metadata": {},
     "output_type": "display_data"
    }
   ],
   "source": [
    "plt.figure(figsize=(20,5))\n",
    "cwm=df3.groupby(\"county\").agg({\"microbusiness_density\":\"mean\"}).sort_values(\"microbusiness_density\").iloc[::-1,:].head(10) # top 10 county\n",
    "sns.barplot(cwm[\"microbusiness_density\"],label=cwm.index)"
   ]
  },
  {
   "cell_type": "code",
   "execution_count": 144,
   "id": "bce7ebb3-6e70-4d23-a6f7-41a39b816cf6",
   "metadata": {},
   "outputs": [
    {
     "data": {
      "text/plain": [
       "<Axes: xlabel='state', ylabel='microbusiness_density'>"
      ]
     },
     "execution_count": 144,
     "metadata": {},
     "output_type": "execute_result"
    },
    {
     "data": {
      "image/png": "[encoded data removed]",
      "text/plain": [
       "<Figure size 2000x500 with 1 Axes>"
      ]
     },
     "metadata": {},
     "output_type": "display_data"
    }
   ],
   "source": [
    "plt.figure(figsize=(20,5))\n",
    "swm=df3.groupby(\"state\").agg({\"microbusiness_density\":\"mean\"}).sort_values(\"microbusiness_density\").iloc[::-1].iloc[:10]\n",
    "sns.barplot(swm[\"microbusiness_density\"],label=swm.index)"
   ]
  },
  {
   "cell_type": "code",
   "execution_count": 154,
   "id": "8db79f57-32fe-405e-b97f-f584caf3a584",
   "metadata": {},
   "outputs": [
    {
     "data": {
      "text/plain": [
       "Index(['row_id', 'cfips', 'county', 'state', 'first_day_of_month',\n",
       "       'microbusiness_density', 'active', 'Details', 'Score', 'Year',\n",
       "       'Categories', 'Month'],\n",
       "      dtype='object')"
      ]
     },
     "execution_count": 154,
     "metadata": {},
     "output_type": "execute_result"
    }
   ],
   "source": [
    "df3[\"Month\"]=pd.to_datetime(df3[\"first_day_of_month\"]).dt.month\n",
    "df3.columns"
   ]
  },
  {
   "cell_type": "code",
   "execution_count": 168,
   "id": "286be1bb-0052-450f-a5b5-fd2dd370e4da",
   "metadata": {},
   "outputs": [],
   "source": [
    "mwm=df3.groupby(\"Month\").agg({\"microbusiness_density\":\"mean\",\"Score\":\"mean\",\"active\":\"mean\"})"
   ]
  },
  {
   "cell_type": "code",
   "execution_count": 169,
   "id": "e7398797-2847-415a-a334-239c20ddcb7e",
   "metadata": {},
   "outputs": [],
   "source": [
    "from sklearn.preprocessing import MinMaxScaler"
   ]
  },
  {
   "cell_type": "code",
   "execution_count": 170,
   "id": "08f6ba67-aa16-44e9-bca9-345b43642467",
   "metadata": {},
   "outputs": [],
   "source": [
    "mm=MinMaxScaler()"
   ]
  },
  {
   "cell_type": "code",
   "execution_count": 172,
   "id": "f8d20c2f-ad10-418a-bcde-680a9fd05d64",
   "metadata": {},
   "outputs": [],
   "source": [
    "for i in [\"microbusiness_density\",\"Score\",\"active\"]:\n",
    "    mwm[i+\"_norm\"]=mm.fit_transform(mwm[[i]])"
   ]
  },
  {
   "cell_type": "code",
   "execution_count": 184,
   "id": "d1996bf1-eab0-4cb8-b9c1-1c891a9f3e6e",
   "metadata": {},
   "outputs": [
    {
     "data": {
      "image/png": "[encoded data removed]",
      "text/plain": [
       "<Figure size 640x480 with 1 Axes>"
      ]
     },
     "metadata": {},
     "output_type": "display_data"
    }
   ],
   "source": [
    "sns.lineplot(x=mwm.index,y=mwm[\"microbusiness_density_norm\"],legend=True)\n",
    "sns.lineplot(x=mwm.index,y=mwm[\"Score_norm\"],legend=True)\n",
    "sns.lineplot(x=mwm.index,y=mwm[\"active_norm\"],legend=True)\n",
    "plt.legend(labels=[\"micro_bunsiness\",\"Score\",\"active\"])\n",
    "plt.show()"
   ]
  },
  {
   "cell_type": "code",
   "execution_count": null,
   "id": "a3f0618e-4c68-45ac-bcc7-39816eeef371",
   "metadata": {},
   "outputs": [],
   "source": []
  },
  {
   "cell_type": "code",
   "execution_count": null,
   "id": "ed3cb3b2-ced6-4607-b90e-ecaa962fd45a",
   "metadata": {},
   "outputs": [],
   "source": []
  }
 ],
 "metadata": {
  "kernelspec": {
   "display_name": "Python 3 (ipykernel)",
   "language": "python",
   "name": "python3"
  },
  "language_info": {
   "codemirror_mode": {
    "name": "ipython",
    "version": 3
   },
   "file_extension": ".py",
   "mimetype": "text/x-python",
   "name": "python",
   "nbconvert_exporter": "python",
   "pygments_lexer": "ipython3",
   "version": "3.12.2"
  }
 },
 "nbformat": 4,
 "nbformat_minor": 5
}
